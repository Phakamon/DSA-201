{
 "cells": [
  {
   "cell_type": "code",
   "execution_count": 1,
   "id": "b7f315ba",
   "metadata": {},
   "outputs": [],
   "source": [
    "import requests"
   ]
  },
  {
   "cell_type": "code",
   "execution_count": 2,
   "id": "62bf5612",
   "metadata": {},
   "outputs": [],
   "source": [
    "#1 Universities List\n",
    "w1 = requests.get('http://universities.hipolabs.com/search?country=United+States')"
   ]
  },
  {
   "cell_type": "code",
   "execution_count": 3,
   "id": "59e8e3ec",
   "metadata": {},
   "outputs": [],
   "source": [
    "import json"
   ]
  },
  {
   "cell_type": "code",
   "execution_count": 4,
   "id": "f3a98487",
   "metadata": {},
   "outputs": [],
   "source": [
    "# Assign new variable\n",
    "w1new_json = w1.content"
   ]
  },
  {
   "cell_type": "code",
   "execution_count": 5,
   "id": "824bbb12",
   "metadata": {},
   "outputs": [],
   "source": [
    "# Convert JSON Array to Python list\n",
    "new1_json = json.loads(w1new_json)"
   ]
  },
  {
   "cell_type": "code",
   "execution_count": 6,
   "id": "79bacbf0",
   "metadata": {},
   "outputs": [
    {
     "data": {
      "text/plain": [
       "list"
      ]
     },
     "execution_count": 6,
     "metadata": {},
     "output_type": "execute_result"
    }
   ],
   "source": [
    "type(new1_json)"
   ]
  },
  {
   "cell_type": "code",
   "execution_count": 7,
   "id": "7de10511",
   "metadata": {},
   "outputs": [],
   "source": [
    "import pandas as pd"
   ]
  },
  {
   "cell_type": "code",
   "execution_count": 8,
   "id": "de8d5fc0",
   "metadata": {},
   "outputs": [
    {
     "data": {
      "text/html": [
       "<div>\n",
       "<style scoped>\n",
       "    .dataframe tbody tr th:only-of-type {\n",
       "        vertical-align: middle;\n",
       "    }\n",
       "\n",
       "    .dataframe tbody tr th {\n",
       "        vertical-align: top;\n",
       "    }\n",
       "\n",
       "    .dataframe thead th {\n",
       "        text-align: right;\n",
       "    }\n",
       "</style>\n",
       "<table border=\"1\" class=\"dataframe\">\n",
       "  <thead>\n",
       "    <tr style=\"text-align: right;\">\n",
       "      <th></th>\n",
       "      <th>country</th>\n",
       "      <th>name</th>\n",
       "      <th>alpha_two_code</th>\n",
       "      <th>state-province</th>\n",
       "      <th>domains</th>\n",
       "      <th>web_pages</th>\n",
       "    </tr>\n",
       "  </thead>\n",
       "  <tbody>\n",
       "    <tr>\n",
       "      <th>0</th>\n",
       "      <td>United States</td>\n",
       "      <td>Marywood University</td>\n",
       "      <td>US</td>\n",
       "      <td>None</td>\n",
       "      <td>[marywood.edu]</td>\n",
       "      <td>[http://www.marywood.edu]</td>\n",
       "    </tr>\n",
       "    <tr>\n",
       "      <th>1</th>\n",
       "      <td>United States</td>\n",
       "      <td>Lindenwood University</td>\n",
       "      <td>US</td>\n",
       "      <td>None</td>\n",
       "      <td>[lindenwood.edu]</td>\n",
       "      <td>[http://www.lindenwood.edu/]</td>\n",
       "    </tr>\n",
       "    <tr>\n",
       "      <th>2</th>\n",
       "      <td>United States</td>\n",
       "      <td>Sullivan University</td>\n",
       "      <td>US</td>\n",
       "      <td>None</td>\n",
       "      <td>[sullivan.edu]</td>\n",
       "      <td>[https://sullivan.edu/]</td>\n",
       "    </tr>\n",
       "    <tr>\n",
       "      <th>3</th>\n",
       "      <td>United States</td>\n",
       "      <td>Florida State College at Jacksonville</td>\n",
       "      <td>US</td>\n",
       "      <td>None</td>\n",
       "      <td>[fscj.edu]</td>\n",
       "      <td>[https://www.fscj.edu/]</td>\n",
       "    </tr>\n",
       "    <tr>\n",
       "      <th>4</th>\n",
       "      <td>United States</td>\n",
       "      <td>Xavier University</td>\n",
       "      <td>US</td>\n",
       "      <td>None</td>\n",
       "      <td>[xavier.edu]</td>\n",
       "      <td>[https://www.xavier.edu/]</td>\n",
       "    </tr>\n",
       "  </tbody>\n",
       "</table>\n",
       "</div>"
      ],
      "text/plain": [
       "         country                                   name alpha_two_code  \\\n",
       "0  United States                    Marywood University             US   \n",
       "1  United States                  Lindenwood University             US   \n",
       "2  United States                    Sullivan University             US   \n",
       "3  United States  Florida State College at Jacksonville             US   \n",
       "4  United States                      Xavier University             US   \n",
       "\n",
       "  state-province           domains                     web_pages  \n",
       "0           None    [marywood.edu]     [http://www.marywood.edu]  \n",
       "1           None  [lindenwood.edu]  [http://www.lindenwood.edu/]  \n",
       "2           None    [sullivan.edu]       [https://sullivan.edu/]  \n",
       "3           None        [fscj.edu]       [https://www.fscj.edu/]  \n",
       "4           None      [xavier.edu]     [https://www.xavier.edu/]  "
      ]
     },
     "execution_count": 8,
     "metadata": {},
     "output_type": "execute_result"
    }
   ],
   "source": [
    "Data1 = pd.DataFrame(new1_json)\n",
    "Data1.head(5)"
   ]
  },
  {
   "cell_type": "code",
   "execution_count": 9,
   "id": "df50b7fe",
   "metadata": {},
   "outputs": [
    {
     "data": {
      "text/plain": [
       "(2173, 6)"
      ]
     },
     "execution_count": 9,
     "metadata": {},
     "output_type": "execute_result"
    }
   ],
   "source": [
    "Data1.shape"
   ]
  },
  {
   "cell_type": "code",
   "execution_count": 10,
   "id": "25d748bd",
   "metadata": {},
   "outputs": [
    {
     "data": {
      "text/plain": [
       "Index(['country', 'name', 'alpha_two_code', 'state-province', 'domains',\n",
       "       'web_pages'],\n",
       "      dtype='object')"
      ]
     },
     "execution_count": 10,
     "metadata": {},
     "output_type": "execute_result"
    }
   ],
   "source": [
    "Data1.columns"
   ]
  },
  {
   "cell_type": "code",
   "execution_count": 11,
   "id": "673a27e0",
   "metadata": {},
   "outputs": [
    {
     "name": "stdout",
     "output_type": "stream",
     "text": [
      "<class 'pandas.core.frame.DataFrame'>\n",
      "RangeIndex: 2173 entries, 0 to 2172\n",
      "Data columns (total 6 columns):\n",
      " #   Column          Non-Null Count  Dtype \n",
      "---  ------          --------------  ----- \n",
      " 0   country         2173 non-null   object\n",
      " 1   name            2173 non-null   object\n",
      " 2   alpha_two_code  2173 non-null   object\n",
      " 3   state-province  41 non-null     object\n",
      " 4   domains         2173 non-null   object\n",
      " 5   web_pages       2173 non-null   object\n",
      "dtypes: object(6)\n",
      "memory usage: 102.0+ KB\n"
     ]
    }
   ],
   "source": [
    "Data1.info()"
   ]
  },
  {
   "cell_type": "code",
   "execution_count": 12,
   "id": "9f5a90fa",
   "metadata": {},
   "outputs": [
    {
     "data": {
      "text/plain": [
       "country              0\n",
       "name                 0\n",
       "alpha_two_code       0\n",
       "state-province    2132\n",
       "domains              0\n",
       "web_pages            0\n",
       "dtype: int64"
      ]
     },
     "execution_count": 12,
     "metadata": {},
     "output_type": "execute_result"
    }
   ],
   "source": [
    "Data1.isnull().sum()"
   ]
  },
  {
   "cell_type": "code",
   "execution_count": 13,
   "id": "6da82924",
   "metadata": {},
   "outputs": [
    {
     "data": {
      "text/html": [
       "<div>\n",
       "<style scoped>\n",
       "    .dataframe tbody tr th:only-of-type {\n",
       "        vertical-align: middle;\n",
       "    }\n",
       "\n",
       "    .dataframe tbody tr th {\n",
       "        vertical-align: top;\n",
       "    }\n",
       "\n",
       "    .dataframe thead th {\n",
       "        text-align: right;\n",
       "    }\n",
       "</style>\n",
       "<table border=\"1\" class=\"dataframe\">\n",
       "  <thead>\n",
       "    <tr style=\"text-align: right;\">\n",
       "      <th></th>\n",
       "      <th>country</th>\n",
       "      <th>name</th>\n",
       "      <th>domains</th>\n",
       "      <th>web_pages</th>\n",
       "    </tr>\n",
       "  </thead>\n",
       "  <tbody>\n",
       "    <tr>\n",
       "      <th>0</th>\n",
       "      <td>United States</td>\n",
       "      <td>Marywood University</td>\n",
       "      <td>[marywood.edu]</td>\n",
       "      <td>[http://www.marywood.edu]</td>\n",
       "    </tr>\n",
       "    <tr>\n",
       "      <th>1</th>\n",
       "      <td>United States</td>\n",
       "      <td>Lindenwood University</td>\n",
       "      <td>[lindenwood.edu]</td>\n",
       "      <td>[http://www.lindenwood.edu/]</td>\n",
       "    </tr>\n",
       "    <tr>\n",
       "      <th>2</th>\n",
       "      <td>United States</td>\n",
       "      <td>Sullivan University</td>\n",
       "      <td>[sullivan.edu]</td>\n",
       "      <td>[https://sullivan.edu/]</td>\n",
       "    </tr>\n",
       "    <tr>\n",
       "      <th>3</th>\n",
       "      <td>United States</td>\n",
       "      <td>Florida State College at Jacksonville</td>\n",
       "      <td>[fscj.edu]</td>\n",
       "      <td>[https://www.fscj.edu/]</td>\n",
       "    </tr>\n",
       "    <tr>\n",
       "      <th>4</th>\n",
       "      <td>United States</td>\n",
       "      <td>Xavier University</td>\n",
       "      <td>[xavier.edu]</td>\n",
       "      <td>[https://www.xavier.edu/]</td>\n",
       "    </tr>\n",
       "  </tbody>\n",
       "</table>\n",
       "</div>"
      ],
      "text/plain": [
       "         country                                   name           domains  \\\n",
       "0  United States                    Marywood University    [marywood.edu]   \n",
       "1  United States                  Lindenwood University  [lindenwood.edu]   \n",
       "2  United States                    Sullivan University    [sullivan.edu]   \n",
       "3  United States  Florida State College at Jacksonville        [fscj.edu]   \n",
       "4  United States                      Xavier University      [xavier.edu]   \n",
       "\n",
       "                      web_pages  \n",
       "0     [http://www.marywood.edu]  \n",
       "1  [http://www.lindenwood.edu/]  \n",
       "2       [https://sullivan.edu/]  \n",
       "3       [https://www.fscj.edu/]  \n",
       "4     [https://www.xavier.edu/]  "
      ]
     },
     "execution_count": 13,
     "metadata": {},
     "output_type": "execute_result"
    }
   ],
   "source": [
    "Data1.drop(['state-province','alpha_two_code'], axis ='columns', inplace = True)\n",
    "Data1.head(5)"
   ]
  },
  {
   "cell_type": "code",
   "execution_count": 14,
   "id": "c4f9d071",
   "metadata": {},
   "outputs": [
    {
     "data": {
      "text/plain": [
       "country      0\n",
       "name         0\n",
       "domains      0\n",
       "web_pages    0\n",
       "dtype: int64"
      ]
     },
     "execution_count": 14,
     "metadata": {},
     "output_type": "execute_result"
    }
   ],
   "source": [
    "Data1.isnull().sum()"
   ]
  },
  {
   "cell_type": "code",
   "execution_count": 15,
   "id": "ebf822fe",
   "metadata": {},
   "outputs": [
    {
     "data": {
      "text/html": [
       "<div>\n",
       "<style scoped>\n",
       "    .dataframe tbody tr th:only-of-type {\n",
       "        vertical-align: middle;\n",
       "    }\n",
       "\n",
       "    .dataframe tbody tr th {\n",
       "        vertical-align: top;\n",
       "    }\n",
       "\n",
       "    .dataframe thead th {\n",
       "        text-align: right;\n",
       "    }\n",
       "</style>\n",
       "<table border=\"1\" class=\"dataframe\">\n",
       "  <thead>\n",
       "    <tr style=\"text-align: right;\">\n",
       "      <th></th>\n",
       "      <th>country</th>\n",
       "      <th>name</th>\n",
       "      <th>domains</th>\n",
       "      <th>web_pages</th>\n",
       "    </tr>\n",
       "  </thead>\n",
       "  <tbody>\n",
       "    <tr>\n",
       "      <th>1202</th>\n",
       "      <td>United States</td>\n",
       "      <td>Westminster College</td>\n",
       "      <td>[westminster-mo.edu]</td>\n",
       "      <td>[http://www.westminster-mo.edu/]</td>\n",
       "    </tr>\n",
       "    <tr>\n",
       "      <th>1354</th>\n",
       "      <td>United States</td>\n",
       "      <td>Glendale Community College</td>\n",
       "      <td>[glendale.edu]</td>\n",
       "      <td>[http://www.glendale.edu]</td>\n",
       "    </tr>\n",
       "    <tr>\n",
       "      <th>1508</th>\n",
       "      <td>United States</td>\n",
       "      <td>College of DuPage</td>\n",
       "      <td>[cod.edu]</td>\n",
       "      <td>[http://www.cod.edu]</td>\n",
       "    </tr>\n",
       "    <tr>\n",
       "      <th>1574</th>\n",
       "      <td>United States</td>\n",
       "      <td>Highland Community College</td>\n",
       "      <td>[highlandcc.edu]</td>\n",
       "      <td>[http://www.highlandcc.edu]</td>\n",
       "    </tr>\n",
       "    <tr>\n",
       "      <th>1639</th>\n",
       "      <td>United States</td>\n",
       "      <td>Middlesex Community College</td>\n",
       "      <td>[middlesex.mass.edu]</td>\n",
       "      <td>[http://www.middlesex.mass.edu]</td>\n",
       "    </tr>\n",
       "    <tr>\n",
       "      <th>1736</th>\n",
       "      <td>United States</td>\n",
       "      <td>Three Rivers Community College</td>\n",
       "      <td>[trcc.edu]</td>\n",
       "      <td>[http://www.trcc.edu]</td>\n",
       "    </tr>\n",
       "    <tr>\n",
       "      <th>1760</th>\n",
       "      <td>United States</td>\n",
       "      <td>Manchester Community College</td>\n",
       "      <td>[mccnh.edu]</td>\n",
       "      <td>[http://www.mccnh.edu]</td>\n",
       "    </tr>\n",
       "    <tr>\n",
       "      <th>1881</th>\n",
       "      <td>United States</td>\n",
       "      <td>Southeastern Community College</td>\n",
       "      <td>[sccnc.edu]</td>\n",
       "      <td>[http://www.sccnc.edu]</td>\n",
       "    </tr>\n",
       "    <tr>\n",
       "      <th>1883</th>\n",
       "      <td>United States</td>\n",
       "      <td>Southwestern Community College</td>\n",
       "      <td>[southwesterncc.edu]</td>\n",
       "      <td>[http://www.southwesterncc.edu]</td>\n",
       "    </tr>\n",
       "    <tr>\n",
       "      <th>2068</th>\n",
       "      <td>United States</td>\n",
       "      <td>Blue Ridge Community College</td>\n",
       "      <td>[brcc.edu]</td>\n",
       "      <td>[http://www.brcc.edu]</td>\n",
       "    </tr>\n",
       "  </tbody>\n",
       "</table>\n",
       "</div>"
      ],
      "text/plain": [
       "            country                            name               domains  \\\n",
       "1202  United States             Westminster College  [westminster-mo.edu]   \n",
       "1354  United States      Glendale Community College        [glendale.edu]   \n",
       "1508  United States               College of DuPage             [cod.edu]   \n",
       "1574  United States      Highland Community College      [highlandcc.edu]   \n",
       "1639  United States     Middlesex Community College  [middlesex.mass.edu]   \n",
       "1736  United States  Three Rivers Community College            [trcc.edu]   \n",
       "1760  United States    Manchester Community College           [mccnh.edu]   \n",
       "1881  United States  Southeastern Community College           [sccnc.edu]   \n",
       "1883  United States  Southwestern Community College  [southwesterncc.edu]   \n",
       "2068  United States    Blue Ridge Community College            [brcc.edu]   \n",
       "\n",
       "                             web_pages  \n",
       "1202  [http://www.westminster-mo.edu/]  \n",
       "1354         [http://www.glendale.edu]  \n",
       "1508              [http://www.cod.edu]  \n",
       "1574       [http://www.highlandcc.edu]  \n",
       "1639   [http://www.middlesex.mass.edu]  \n",
       "1736             [http://www.trcc.edu]  \n",
       "1760            [http://www.mccnh.edu]  \n",
       "1881            [http://www.sccnc.edu]  \n",
       "1883   [http://www.southwesterncc.edu]  \n",
       "2068             [http://www.brcc.edu]  "
      ]
     },
     "execution_count": 15,
     "metadata": {},
     "output_type": "execute_result"
    }
   ],
   "source": [
    "# Check columns ='name' have duplicate or not\n",
    "Data1[Data1.duplicated('name')]"
   ]
  },
  {
   "cell_type": "code",
   "execution_count": 16,
   "id": "fe639f95",
   "metadata": {},
   "outputs": [
    {
     "data": {
      "text/plain": [
       "10"
      ]
     },
     "execution_count": 16,
     "metadata": {},
     "output_type": "execute_result"
    }
   ],
   "source": [
    "Data1.duplicated('name').sum()"
   ]
  },
  {
   "cell_type": "code",
   "execution_count": 17,
   "id": "bb6d69fa",
   "metadata": {},
   "outputs": [
    {
     "data": {
      "text/html": [
       "<div>\n",
       "<style scoped>\n",
       "    .dataframe tbody tr th:only-of-type {\n",
       "        vertical-align: middle;\n",
       "    }\n",
       "\n",
       "    .dataframe tbody tr th {\n",
       "        vertical-align: top;\n",
       "    }\n",
       "\n",
       "    .dataframe thead th {\n",
       "        text-align: right;\n",
       "    }\n",
       "</style>\n",
       "<table border=\"1\" class=\"dataframe\">\n",
       "  <thead>\n",
       "    <tr style=\"text-align: right;\">\n",
       "      <th></th>\n",
       "      <th>country</th>\n",
       "      <th>name</th>\n",
       "      <th>domains</th>\n",
       "      <th>web_pages</th>\n",
       "    </tr>\n",
       "  </thead>\n",
       "  <tbody>\n",
       "    <tr>\n",
       "      <th>0</th>\n",
       "      <td>United States</td>\n",
       "      <td>Marywood University</td>\n",
       "      <td>[marywood.edu]</td>\n",
       "      <td>[http://www.marywood.edu]</td>\n",
       "    </tr>\n",
       "    <tr>\n",
       "      <th>1</th>\n",
       "      <td>United States</td>\n",
       "      <td>Lindenwood University</td>\n",
       "      <td>[lindenwood.edu]</td>\n",
       "      <td>[http://www.lindenwood.edu/]</td>\n",
       "    </tr>\n",
       "    <tr>\n",
       "      <th>2</th>\n",
       "      <td>United States</td>\n",
       "      <td>Sullivan University</td>\n",
       "      <td>[sullivan.edu]</td>\n",
       "      <td>[https://sullivan.edu/]</td>\n",
       "    </tr>\n",
       "    <tr>\n",
       "      <th>3</th>\n",
       "      <td>United States</td>\n",
       "      <td>Florida State College at Jacksonville</td>\n",
       "      <td>[fscj.edu]</td>\n",
       "      <td>[https://www.fscj.edu/]</td>\n",
       "    </tr>\n",
       "    <tr>\n",
       "      <th>4</th>\n",
       "      <td>United States</td>\n",
       "      <td>Xavier University</td>\n",
       "      <td>[xavier.edu]</td>\n",
       "      <td>[https://www.xavier.edu/]</td>\n",
       "    </tr>\n",
       "  </tbody>\n",
       "</table>\n",
       "</div>"
      ],
      "text/plain": [
       "         country                                   name           domains  \\\n",
       "0  United States                    Marywood University    [marywood.edu]   \n",
       "1  United States                  Lindenwood University  [lindenwood.edu]   \n",
       "2  United States                    Sullivan University    [sullivan.edu]   \n",
       "3  United States  Florida State College at Jacksonville        [fscj.edu]   \n",
       "4  United States                      Xavier University      [xavier.edu]   \n",
       "\n",
       "                      web_pages  \n",
       "0     [http://www.marywood.edu]  \n",
       "1  [http://www.lindenwood.edu/]  \n",
       "2       [https://sullivan.edu/]  \n",
       "3       [https://www.fscj.edu/]  \n",
       "4     [https://www.xavier.edu/]  "
      ]
     },
     "execution_count": 17,
     "metadata": {},
     "output_type": "execute_result"
    }
   ],
   "source": [
    "#remove\n",
    "Data1.drop_duplicates('name', inplace = True)\n",
    "Data1.head(5)"
   ]
  },
  {
   "cell_type": "code",
   "execution_count": 18,
   "id": "6f517470",
   "metadata": {},
   "outputs": [
    {
     "data": {
      "text/plain": [
       "(2163, 4)"
      ]
     },
     "execution_count": 18,
     "metadata": {},
     "output_type": "execute_result"
    }
   ],
   "source": [
    "Data1.shape"
   ]
  },
  {
   "cell_type": "code",
   "execution_count": 19,
   "id": "8736e2dd",
   "metadata": {},
   "outputs": [
    {
     "data": {
      "text/plain": [
       "Index(['COUNTRY', 'NAME', 'DOMAINS', 'WEB_PAGES'], dtype='object')"
      ]
     },
     "execution_count": 19,
     "metadata": {},
     "output_type": "execute_result"
    }
   ],
   "source": [
    "Data1.columns = [col.upper() for col in Data1]\n",
    "Data1.columns"
   ]
  },
  {
   "cell_type": "code",
   "execution_count": 20,
   "id": "f596f05e",
   "metadata": {},
   "outputs": [
    {
     "data": {
      "text/html": [
       "<div>\n",
       "<style scoped>\n",
       "    .dataframe tbody tr th:only-of-type {\n",
       "        vertical-align: middle;\n",
       "    }\n",
       "\n",
       "    .dataframe tbody tr th {\n",
       "        vertical-align: top;\n",
       "    }\n",
       "\n",
       "    .dataframe thead th {\n",
       "        text-align: right;\n",
       "    }\n",
       "</style>\n",
       "<table border=\"1\" class=\"dataframe\">\n",
       "  <thead>\n",
       "    <tr style=\"text-align: right;\">\n",
       "      <th></th>\n",
       "      <th>COUNTRY</th>\n",
       "      <th>NAME</th>\n",
       "      <th>DOMAINS</th>\n",
       "      <th>WEB_PAGES</th>\n",
       "    </tr>\n",
       "  </thead>\n",
       "  <tbody>\n",
       "    <tr>\n",
       "      <th>0</th>\n",
       "      <td>United States</td>\n",
       "      <td>Marywood University</td>\n",
       "      <td>[marywood.edu]</td>\n",
       "      <td>[http://www.marywood.edu]</td>\n",
       "    </tr>\n",
       "    <tr>\n",
       "      <th>1</th>\n",
       "      <td>United States</td>\n",
       "      <td>Lindenwood University</td>\n",
       "      <td>[lindenwood.edu]</td>\n",
       "      <td>[http://www.lindenwood.edu/]</td>\n",
       "    </tr>\n",
       "    <tr>\n",
       "      <th>2</th>\n",
       "      <td>United States</td>\n",
       "      <td>Sullivan University</td>\n",
       "      <td>[sullivan.edu]</td>\n",
       "      <td>[https://sullivan.edu/]</td>\n",
       "    </tr>\n",
       "    <tr>\n",
       "      <th>3</th>\n",
       "      <td>United States</td>\n",
       "      <td>Florida State College at Jacksonville</td>\n",
       "      <td>[fscj.edu]</td>\n",
       "      <td>[https://www.fscj.edu/]</td>\n",
       "    </tr>\n",
       "    <tr>\n",
       "      <th>4</th>\n",
       "      <td>United States</td>\n",
       "      <td>Xavier University</td>\n",
       "      <td>[xavier.edu]</td>\n",
       "      <td>[https://www.xavier.edu/]</td>\n",
       "    </tr>\n",
       "    <tr>\n",
       "      <th>5</th>\n",
       "      <td>United States</td>\n",
       "      <td>Tusculum College</td>\n",
       "      <td>[tusculum.edu]</td>\n",
       "      <td>[https://home.tusculum.edu/]</td>\n",
       "    </tr>\n",
       "    <tr>\n",
       "      <th>6</th>\n",
       "      <td>United States</td>\n",
       "      <td>Claremont School of Theology</td>\n",
       "      <td>[cst.edu]</td>\n",
       "      <td>[https://cst.edu/]</td>\n",
       "    </tr>\n",
       "    <tr>\n",
       "      <th>7</th>\n",
       "      <td>United States</td>\n",
       "      <td>Columbia College (SC)</td>\n",
       "      <td>[columbiasc.edu]</td>\n",
       "      <td>[https://www.columbiasc.edu/]</td>\n",
       "    </tr>\n",
       "    <tr>\n",
       "      <th>8</th>\n",
       "      <td>United States</td>\n",
       "      <td>Chabot-Las Positas Community College District</td>\n",
       "      <td>[clpccd.edu]</td>\n",
       "      <td>[http://www.clpccd.edu/]</td>\n",
       "    </tr>\n",
       "    <tr>\n",
       "      <th>9</th>\n",
       "      <td>United States</td>\n",
       "      <td>Keller Graduate School of Management</td>\n",
       "      <td>[keller.edu]</td>\n",
       "      <td>[https://www.keller.edu/]</td>\n",
       "    </tr>\n",
       "  </tbody>\n",
       "</table>\n",
       "</div>"
      ],
      "text/plain": [
       "         COUNTRY                                           NAME  \\\n",
       "0  United States                            Marywood University   \n",
       "1  United States                          Lindenwood University   \n",
       "2  United States                            Sullivan University   \n",
       "3  United States          Florida State College at Jacksonville   \n",
       "4  United States                              Xavier University   \n",
       "5  United States                               Tusculum College   \n",
       "6  United States                   Claremont School of Theology   \n",
       "7  United States                          Columbia College (SC)   \n",
       "8  United States  Chabot-Las Positas Community College District   \n",
       "9  United States           Keller Graduate School of Management   \n",
       "\n",
       "            DOMAINS                      WEB_PAGES  \n",
       "0    [marywood.edu]      [http://www.marywood.edu]  \n",
       "1  [lindenwood.edu]   [http://www.lindenwood.edu/]  \n",
       "2    [sullivan.edu]        [https://sullivan.edu/]  \n",
       "3        [fscj.edu]        [https://www.fscj.edu/]  \n",
       "4      [xavier.edu]      [https://www.xavier.edu/]  \n",
       "5    [tusculum.edu]   [https://home.tusculum.edu/]  \n",
       "6         [cst.edu]             [https://cst.edu/]  \n",
       "7  [columbiasc.edu]  [https://www.columbiasc.edu/]  \n",
       "8      [clpccd.edu]       [http://www.clpccd.edu/]  \n",
       "9      [keller.edu]      [https://www.keller.edu/]  "
      ]
     },
     "execution_count": 20,
     "metadata": {},
     "output_type": "execute_result"
    }
   ],
   "source": [
    "Data1.head(10)"
   ]
  },
  {
   "cell_type": "code",
   "execution_count": 21,
   "id": "abe2b753",
   "metadata": {},
   "outputs": [],
   "source": [
    "import numpy as np\n",
    "import seaborn as sns\n",
    "import matplotlib.pyplot as plt"
   ]
  },
  {
   "cell_type": "code",
   "execution_count": 22,
   "id": "ea77e72e",
   "metadata": {},
   "outputs": [
    {
     "data": {
      "text/plain": [
       "COUNTRY      object\n",
       "NAME         object\n",
       "DOMAINS      object\n",
       "WEB_PAGES    object\n",
       "dtype: object"
      ]
     },
     "execution_count": 22,
     "metadata": {},
     "output_type": "execute_result"
    }
   ],
   "source": [
    "Data1.dtypes"
   ]
  },
  {
   "cell_type": "code",
   "execution_count": 23,
   "id": "3c5281fb",
   "metadata": {},
   "outputs": [],
   "source": [
    "import folium"
   ]
  },
  {
   "cell_type": "code",
   "execution_count": 24,
   "id": "16fe792a",
   "metadata": {},
   "outputs": [
    {
     "name": "stderr",
     "output_type": "stream",
     "text": [
      "C:\\Users\\User\\Anaconda3\\lib\\site-packages\\ipykernel_launcher.py:23: UserWarning: color argument of Icon should be one of: {'lightred', 'darkblue', 'green', 'lightgray', 'pink', 'darkgreen', 'darkpurple', 'lightblue', 'white', 'cadetblue', 'blue', 'lightgreen', 'black', 'red', 'orange', 'gray', 'darkred', 'purple', 'beige'}.\n"
     ]
    },
    {
     "data": {
      "text/html": [
       "<div style=\"width:100%;\"><div style=\"position:relative;width:100%;height:0;padding-bottom:60%;\"><iframe src=\"about:blank\" style=\"position:absolute;width:100%;height:100%;left:0;top:0;border:none !important;\" data-html=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 onload=\"this.contentDocument.open();this.contentDocument.write(atob(this.getAttribute('data-html')));this.contentDocument.close();\" allowfullscreen webkitallowfullscreen mozallowfullscreen></iframe></div></div>"
      ],
      "text/plain": [
       "<folium.folium.Map at 0x291290cb088>"
      ]
     },
     "execution_count": 24,
     "metadata": {},
     "output_type": "execute_result"
    }
   ],
   "source": [
    "#Example\n",
    "m = folium.Map(\n",
    "    location=[39.64653286996934, -101.73890087266602],\n",
    "    zoom_start=4,)\n",
    "folium.Marker(\n",
    "    location=[41.43514796619586, -75.63240194518674],\n",
    "    popup='Marywood University',\n",
    "    icon=folium.Icon(color='blue')\n",
    ").add_to(m)\n",
    "folium.Marker(\n",
    "    location=[38.787398560353964, -90.50554264303796],\n",
    "    popup='Lindenwood University',\n",
    "    icon=folium.Icon(color='green')\n",
    ").add_to(m)\n",
    "folium.Marker(\n",
    "    location=[38.21334271403076, -85.67059413365561],\n",
    "    popup='Sullivan University',\n",
    "    icon=folium.Icon(color='red')\n",
    ").add_to(m)\n",
    "folium.Marker(\n",
    "    location=[30.33538723066952, -81.66244490976459],\n",
    "    popup='Florida State College at Jacksonville',\n",
    "    icon=folium.Icon(color='orange ')\n",
    ").add_to(m)\n",
    "folium.Marker(\n",
    "    location=[39.14995730058493, -84.47411066061082],\n",
    "    popup='Xavier University',\n",
    "    icon=folium.Icon(color='purple')\n",
    ").add_to(m)\n",
    "m"
   ]
  },
  {
   "cell_type": "code",
   "execution_count": 25,
   "id": "5db94bd9",
   "metadata": {},
   "outputs": [],
   "source": [
    "#2 Data USA\n",
    "w2 = requests.get('https://datausa.io/api/data?drilldowns=Nation&measures=Population')"
   ]
  },
  {
   "cell_type": "code",
   "execution_count": 26,
   "id": "8c75576b",
   "metadata": {},
   "outputs": [],
   "source": [
    "w2new_json = w2.content"
   ]
  },
  {
   "cell_type": "code",
   "execution_count": 27,
   "id": "641d9ca4",
   "metadata": {},
   "outputs": [],
   "source": [
    "new2_json = json.loads(w2new_json)"
   ]
  },
  {
   "cell_type": "code",
   "execution_count": 28,
   "id": "deaa4ad6",
   "metadata": {},
   "outputs": [
    {
     "data": {
      "text/plain": [
       "dict"
      ]
     },
     "execution_count": 28,
     "metadata": {},
     "output_type": "execute_result"
    }
   ],
   "source": [
    "type(new2_json)"
   ]
  },
  {
   "cell_type": "code",
   "execution_count": 29,
   "id": "b83e1a6e",
   "metadata": {},
   "outputs": [
    {
     "data": {
      "text/html": [
       "<div>\n",
       "<style scoped>\n",
       "    .dataframe tbody tr th:only-of-type {\n",
       "        vertical-align: middle;\n",
       "    }\n",
       "\n",
       "    .dataframe tbody tr th {\n",
       "        vertical-align: top;\n",
       "    }\n",
       "\n",
       "    .dataframe thead th {\n",
       "        text-align: right;\n",
       "    }\n",
       "</style>\n",
       "<table border=\"1\" class=\"dataframe\">\n",
       "  <thead>\n",
       "    <tr style=\"text-align: right;\">\n",
       "      <th></th>\n",
       "      <th>ID Nation</th>\n",
       "      <th>Nation</th>\n",
       "      <th>ID Year</th>\n",
       "      <th>Year</th>\n",
       "      <th>Population</th>\n",
       "      <th>Slug Nation</th>\n",
       "    </tr>\n",
       "  </thead>\n",
       "  <tbody>\n",
       "    <tr>\n",
       "      <th>0</th>\n",
       "      <td>01000US</td>\n",
       "      <td>United States</td>\n",
       "      <td>2019</td>\n",
       "      <td>2019</td>\n",
       "      <td>328239523</td>\n",
       "      <td>united-states</td>\n",
       "    </tr>\n",
       "    <tr>\n",
       "      <th>1</th>\n",
       "      <td>01000US</td>\n",
       "      <td>United States</td>\n",
       "      <td>2018</td>\n",
       "      <td>2018</td>\n",
       "      <td>327167439</td>\n",
       "      <td>united-states</td>\n",
       "    </tr>\n",
       "    <tr>\n",
       "      <th>2</th>\n",
       "      <td>01000US</td>\n",
       "      <td>United States</td>\n",
       "      <td>2017</td>\n",
       "      <td>2017</td>\n",
       "      <td>325719178</td>\n",
       "      <td>united-states</td>\n",
       "    </tr>\n",
       "    <tr>\n",
       "      <th>3</th>\n",
       "      <td>01000US</td>\n",
       "      <td>United States</td>\n",
       "      <td>2016</td>\n",
       "      <td>2016</td>\n",
       "      <td>323127515</td>\n",
       "      <td>united-states</td>\n",
       "    </tr>\n",
       "    <tr>\n",
       "      <th>4</th>\n",
       "      <td>01000US</td>\n",
       "      <td>United States</td>\n",
       "      <td>2015</td>\n",
       "      <td>2015</td>\n",
       "      <td>321418821</td>\n",
       "      <td>united-states</td>\n",
       "    </tr>\n",
       "  </tbody>\n",
       "</table>\n",
       "</div>"
      ],
      "text/plain": [
       "  ID Nation         Nation  ID Year  Year  Population    Slug Nation\n",
       "0   01000US  United States     2019  2019   328239523  united-states\n",
       "1   01000US  United States     2018  2018   327167439  united-states\n",
       "2   01000US  United States     2017  2017   325719178  united-states\n",
       "3   01000US  United States     2016  2016   323127515  united-states\n",
       "4   01000US  United States     2015  2015   321418821  united-states"
      ]
     },
     "execution_count": 29,
     "metadata": {},
     "output_type": "execute_result"
    }
   ],
   "source": [
    "data = new2_json['data']\n",
    "\n",
    "Data2 = pd.DataFrame(data)\n",
    "Data2.head(5)"
   ]
  },
  {
   "cell_type": "code",
   "execution_count": 30,
   "id": "0fa05717",
   "metadata": {},
   "outputs": [
    {
     "data": {
      "text/plain": [
       "(7, 6)"
      ]
     },
     "execution_count": 30,
     "metadata": {},
     "output_type": "execute_result"
    }
   ],
   "source": [
    "Data2.shape"
   ]
  },
  {
   "cell_type": "code",
   "execution_count": 31,
   "id": "d3e4b6b4",
   "metadata": {},
   "outputs": [
    {
     "data": {
      "text/plain": [
       "Index(['ID Nation', 'Nation', 'ID Year', 'Year', 'Population', 'Slug Nation'], dtype='object')"
      ]
     },
     "execution_count": 31,
     "metadata": {},
     "output_type": "execute_result"
    }
   ],
   "source": [
    "Data2.columns"
   ]
  },
  {
   "cell_type": "code",
   "execution_count": 32,
   "id": "7e6ef12f",
   "metadata": {},
   "outputs": [],
   "source": [
    "Data2.drop(['ID Year', 'Slug Nation'],axis ='columns', inplace= True)"
   ]
  },
  {
   "cell_type": "code",
   "execution_count": 33,
   "id": "0b7ca3d1",
   "metadata": {},
   "outputs": [
    {
     "data": {
      "text/html": [
       "<div>\n",
       "<style scoped>\n",
       "    .dataframe tbody tr th:only-of-type {\n",
       "        vertical-align: middle;\n",
       "    }\n",
       "\n",
       "    .dataframe tbody tr th {\n",
       "        vertical-align: top;\n",
       "    }\n",
       "\n",
       "    .dataframe thead th {\n",
       "        text-align: right;\n",
       "    }\n",
       "</style>\n",
       "<table border=\"1\" class=\"dataframe\">\n",
       "  <thead>\n",
       "    <tr style=\"text-align: right;\">\n",
       "      <th></th>\n",
       "      <th>ID Nation</th>\n",
       "      <th>Nation</th>\n",
       "      <th>Year</th>\n",
       "      <th>Population</th>\n",
       "    </tr>\n",
       "  </thead>\n",
       "  <tbody>\n",
       "    <tr>\n",
       "      <th>0</th>\n",
       "      <td>01000US</td>\n",
       "      <td>United States</td>\n",
       "      <td>2019</td>\n",
       "      <td>328239523</td>\n",
       "    </tr>\n",
       "    <tr>\n",
       "      <th>1</th>\n",
       "      <td>01000US</td>\n",
       "      <td>United States</td>\n",
       "      <td>2018</td>\n",
       "      <td>327167439</td>\n",
       "    </tr>\n",
       "    <tr>\n",
       "      <th>2</th>\n",
       "      <td>01000US</td>\n",
       "      <td>United States</td>\n",
       "      <td>2017</td>\n",
       "      <td>325719178</td>\n",
       "    </tr>\n",
       "    <tr>\n",
       "      <th>3</th>\n",
       "      <td>01000US</td>\n",
       "      <td>United States</td>\n",
       "      <td>2016</td>\n",
       "      <td>323127515</td>\n",
       "    </tr>\n",
       "    <tr>\n",
       "      <th>4</th>\n",
       "      <td>01000US</td>\n",
       "      <td>United States</td>\n",
       "      <td>2015</td>\n",
       "      <td>321418821</td>\n",
       "    </tr>\n",
       "    <tr>\n",
       "      <th>5</th>\n",
       "      <td>01000US</td>\n",
       "      <td>United States</td>\n",
       "      <td>2014</td>\n",
       "      <td>318857056</td>\n",
       "    </tr>\n",
       "    <tr>\n",
       "      <th>6</th>\n",
       "      <td>01000US</td>\n",
       "      <td>United States</td>\n",
       "      <td>2013</td>\n",
       "      <td>316128839</td>\n",
       "    </tr>\n",
       "  </tbody>\n",
       "</table>\n",
       "</div>"
      ],
      "text/plain": [
       "  ID Nation         Nation  Year  Population\n",
       "0   01000US  United States  2019   328239523\n",
       "1   01000US  United States  2018   327167439\n",
       "2   01000US  United States  2017   325719178\n",
       "3   01000US  United States  2016   323127515\n",
       "4   01000US  United States  2015   321418821\n",
       "5   01000US  United States  2014   318857056\n",
       "6   01000US  United States  2013   316128839"
      ]
     },
     "execution_count": 33,
     "metadata": {},
     "output_type": "execute_result"
    }
   ],
   "source": [
    "Data2"
   ]
  },
  {
   "cell_type": "code",
   "execution_count": 34,
   "id": "ab893a05",
   "metadata": {},
   "outputs": [
    {
     "data": {
      "text/plain": [
       "ID Nation     object\n",
       "Nation        object\n",
       "Year          object\n",
       "Population     int64\n",
       "dtype: object"
      ]
     },
     "execution_count": 34,
     "metadata": {},
     "output_type": "execute_result"
    }
   ],
   "source": [
    "Data2.dtypes"
   ]
  },
  {
   "cell_type": "code",
   "execution_count": 35,
   "id": "f40579a1",
   "metadata": {},
   "outputs": [
    {
     "data": {
      "text/plain": [
       "ID Nation     object\n",
       "Nation        object\n",
       "Year           int32\n",
       "Population     int64\n",
       "dtype: object"
      ]
     },
     "execution_count": 35,
     "metadata": {},
     "output_type": "execute_result"
    }
   ],
   "source": [
    "#change data type\n",
    "data_type = {'Year' : int}\n",
    "Data2 = Data2.astype(data_type)\n",
    "Data2.dtypes"
   ]
  },
  {
   "cell_type": "code",
   "execution_count": 36,
   "id": "28c36109",
   "metadata": {},
   "outputs": [
    {
     "data": {
      "image/png": "[encoded data removed]",
      "text/plain": [
       "<Figure size 640x480 with 1 Axes>"
      ]
     },
     "metadata": {},
     "output_type": "display_data"
    }
   ],
   "source": [
    "#Bar graph\n",
    "x2 = Data2['Year']\n",
    "ydata2 = Data2['Population']\n",
    "plt.bar(x2,ydata2)\n",
    "plt.xlabel('Year')\n",
    "plt.ylabel('Population in million')\n",
    "plt.title('Data USA Population till 2019')\n",
    "plt.show()"
   ]
  },
  {
   "cell_type": "code",
   "execution_count": 37,
   "id": "ef94b0f6",
   "metadata": {},
   "outputs": [
    {
     "data": {
      "image/png": "[encoded data removed]",
      "text/plain": [
       "<Figure size 640x480 with 1 Axes>"
      ]
     },
     "metadata": {},
     "output_type": "display_data"
    }
   ],
   "source": [
    "#line graphs\n",
    "plt.plot(x2,ydata2)\n",
    "plt.xlabel('Year')\n",
    "plt.ylabel('Population in million')\n",
    "plt.title('Data USA Population till 2019')\n",
    "plt.show()"
   ]
  },
  {
   "cell_type": "code",
   "execution_count": 38,
   "id": "f27ebb01",
   "metadata": {},
   "outputs": [
    {
     "data": {
      "image/png": "[encoded data removed]",
      "text/plain": [
       "<Figure size 640x480 with 1 Axes>"
      ]
     },
     "metadata": {},
     "output_type": "display_data"
    }
   ],
   "source": [
    "#pie graphs \n",
    "year = Data2['Year']\n",
    "plt.pie(ydata2, labels=year, autopct='%1.1f%%')\n",
    "plt.title('Data USA Population till 2019')\n",
    "plt.show()"
   ]
  },
  {
   "cell_type": "code",
   "execution_count": 39,
   "id": "6e7b1069",
   "metadata": {},
   "outputs": [],
   "source": [
    "#3 Public APIs\n",
    "w3 = requests.get('https://api.publicapis.org/entries')"
   ]
  },
  {
   "cell_type": "code",
   "execution_count": 40,
   "id": "ab2bab1d",
   "metadata": {},
   "outputs": [],
   "source": [
    "w3new_json = w3.content"
   ]
  },
  {
   "cell_type": "code",
   "execution_count": 41,
   "id": "0a69ca5f",
   "metadata": {},
   "outputs": [],
   "source": [
    "new3_json = json.loads(w3new_json)"
   ]
  },
  {
   "cell_type": "code",
   "execution_count": 42,
   "id": "9c6eece5",
   "metadata": {},
   "outputs": [
    {
     "data": {
      "text/plain": [
       "dict"
      ]
     },
     "execution_count": 42,
     "metadata": {},
     "output_type": "execute_result"
    }
   ],
   "source": [
    "type(new3_json)"
   ]
  },
  {
   "cell_type": "code",
   "execution_count": 43,
   "id": "dcf030cf",
   "metadata": {},
   "outputs": [
    {
     "data": {
      "text/html": [
       "<div>\n",
       "<style scoped>\n",
       "    .dataframe tbody tr th:only-of-type {\n",
       "        vertical-align: middle;\n",
       "    }\n",
       "\n",
       "    .dataframe tbody tr th {\n",
       "        vertical-align: top;\n",
       "    }\n",
       "\n",
       "    .dataframe thead th {\n",
       "        text-align: right;\n",
       "    }\n",
       "</style>\n",
       "<table border=\"1\" class=\"dataframe\">\n",
       "  <thead>\n",
       "    <tr style=\"text-align: right;\">\n",
       "      <th></th>\n",
       "      <th>count</th>\n",
       "      <th>entries</th>\n",
       "    </tr>\n",
       "  </thead>\n",
       "  <tbody>\n",
       "    <tr>\n",
       "      <th>0</th>\n",
       "      <td>935</td>\n",
       "      <td>{'API': 'Axolotl', 'Description': 'Collection ...</td>\n",
       "    </tr>\n",
       "    <tr>\n",
       "      <th>1</th>\n",
       "      <td>935</td>\n",
       "      <td>{'API': 'Cat Facts', 'Description': 'Daily cat...</td>\n",
       "    </tr>\n",
       "    <tr>\n",
       "      <th>2</th>\n",
       "      <td>935</td>\n",
       "      <td>{'API': 'Cataas', 'Description': 'Cat as a ser...</td>\n",
       "    </tr>\n",
       "    <tr>\n",
       "      <th>3</th>\n",
       "      <td>935</td>\n",
       "      <td>{'API': 'catAPI', 'Description': 'Random pictu...</td>\n",
       "    </tr>\n",
       "    <tr>\n",
       "      <th>4</th>\n",
       "      <td>935</td>\n",
       "      <td>{'API': 'Cats', 'Description': 'Pictures of ca...</td>\n",
       "    </tr>\n",
       "  </tbody>\n",
       "</table>\n",
       "</div>"
      ],
      "text/plain": [
       "   count                                            entries\n",
       "0    935  {'API': 'Axolotl', 'Description': 'Collection ...\n",
       "1    935  {'API': 'Cat Facts', 'Description': 'Daily cat...\n",
       "2    935  {'API': 'Cataas', 'Description': 'Cat as a ser...\n",
       "3    935  {'API': 'catAPI', 'Description': 'Random pictu...\n",
       "4    935  {'API': 'Cats', 'Description': 'Pictures of ca..."
      ]
     },
     "execution_count": 43,
     "metadata": {},
     "output_type": "execute_result"
    }
   ],
   "source": [
    "Data3 = pd.DataFrame(new3_json)\n",
    "Data3.head(5)"
   ]
  },
  {
   "cell_type": "code",
   "execution_count": 44,
   "id": "9ab8d73a",
   "metadata": {},
   "outputs": [
    {
     "data": {
      "text/plain": [
       "(935, 2)"
      ]
     },
     "execution_count": 44,
     "metadata": {},
     "output_type": "execute_result"
    }
   ],
   "source": [
    "Data3.shape"
   ]
  },
  {
   "cell_type": "code",
   "execution_count": 45,
   "id": "5a5010e8",
   "metadata": {},
   "outputs": [
    {
     "data": {
      "text/plain": [
       "Index(['count', 'entries'], dtype='object')"
      ]
     },
     "execution_count": 45,
     "metadata": {},
     "output_type": "execute_result"
    }
   ],
   "source": [
    "Data3.columns"
   ]
  },
  {
   "cell_type": "code",
   "execution_count": 46,
   "id": "f2664732",
   "metadata": {},
   "outputs": [
    {
     "data": {
      "text/html": [
       "<div>\n",
       "<style scoped>\n",
       "    .dataframe tbody tr th:only-of-type {\n",
       "        vertical-align: middle;\n",
       "    }\n",
       "\n",
       "    .dataframe tbody tr th {\n",
       "        vertical-align: top;\n",
       "    }\n",
       "\n",
       "    .dataframe thead th {\n",
       "        text-align: right;\n",
       "    }\n",
       "</style>\n",
       "<table border=\"1\" class=\"dataframe\">\n",
       "  <thead>\n",
       "    <tr style=\"text-align: right;\">\n",
       "      <th></th>\n",
       "      <th>API</th>\n",
       "      <th>Description</th>\n",
       "      <th>Auth</th>\n",
       "      <th>HTTPS</th>\n",
       "      <th>Cors</th>\n",
       "      <th>Link</th>\n",
       "      <th>Category</th>\n",
       "    </tr>\n",
       "  </thead>\n",
       "  <tbody>\n",
       "    <tr>\n",
       "      <th>0</th>\n",
       "      <td>Axolotl</td>\n",
       "      <td>Collection of axolotl pictures and facts</td>\n",
       "      <td></td>\n",
       "      <td>True</td>\n",
       "      <td>unknown</td>\n",
       "      <td>https://theaxolotlapi.netlify.app/</td>\n",
       "      <td>Animals</td>\n",
       "    </tr>\n",
       "    <tr>\n",
       "      <th>1</th>\n",
       "      <td>Cat Facts</td>\n",
       "      <td>Daily cat facts</td>\n",
       "      <td></td>\n",
       "      <td>True</td>\n",
       "      <td>no</td>\n",
       "      <td>https://alexwohlbruck.github.io/cat-facts/</td>\n",
       "      <td>Animals</td>\n",
       "    </tr>\n",
       "    <tr>\n",
       "      <th>2</th>\n",
       "      <td>Cataas</td>\n",
       "      <td>Cat as a service (cats pictures and gifs)</td>\n",
       "      <td></td>\n",
       "      <td>True</td>\n",
       "      <td>unknown</td>\n",
       "      <td>https://cataas.com/</td>\n",
       "      <td>Animals</td>\n",
       "    </tr>\n",
       "    <tr>\n",
       "      <th>3</th>\n",
       "      <td>catAPI</td>\n",
       "      <td>Random pictures of cats</td>\n",
       "      <td></td>\n",
       "      <td>True</td>\n",
       "      <td>yes</td>\n",
       "      <td>https://github.com/ThatCopy/catAPI/wiki/Usage</td>\n",
       "      <td>Animals</td>\n",
       "    </tr>\n",
       "    <tr>\n",
       "      <th>4</th>\n",
       "      <td>Cats</td>\n",
       "      <td>Pictures of cats from Tumblr</td>\n",
       "      <td>apiKey</td>\n",
       "      <td>True</td>\n",
       "      <td>unknown</td>\n",
       "      <td>https://docs.thecatapi.com/</td>\n",
       "      <td>Animals</td>\n",
       "    </tr>\n",
       "  </tbody>\n",
       "</table>\n",
       "</div>"
      ],
      "text/plain": [
       "         API                                Description    Auth  HTTPS  \\\n",
       "0    Axolotl   Collection of axolotl pictures and facts           True   \n",
       "1  Cat Facts                            Daily cat facts           True   \n",
       "2     Cataas  Cat as a service (cats pictures and gifs)           True   \n",
       "3     catAPI                    Random pictures of cats           True   \n",
       "4       Cats               Pictures of cats from Tumblr  apiKey   True   \n",
       "\n",
       "      Cors                                           Link Category  \n",
       "0  unknown             https://theaxolotlapi.netlify.app/  Animals  \n",
       "1       no     https://alexwohlbruck.github.io/cat-facts/  Animals  \n",
       "2  unknown                            https://cataas.com/  Animals  \n",
       "3      yes  https://github.com/ThatCopy/catAPI/wiki/Usage  Animals  \n",
       "4  unknown                    https://docs.thecatapi.com/  Animals  "
      ]
     },
     "execution_count": 46,
     "metadata": {},
     "output_type": "execute_result"
    }
   ],
   "source": [
    "df3 = pd.DataFrame(new3_json['entries'])\n",
    "df3.head(5)"
   ]
  },
  {
   "cell_type": "code",
   "execution_count": 47,
   "id": "9c3a3c82",
   "metadata": {},
   "outputs": [
    {
     "data": {
      "text/plain": [
       "API            0\n",
       "Description    0\n",
       "Auth           0\n",
       "HTTPS          0\n",
       "Cors           0\n",
       "Link           0\n",
       "Category       0\n",
       "dtype: int64"
      ]
     },
     "execution_count": 47,
     "metadata": {},
     "output_type": "execute_result"
    }
   ],
   "source": [
    "df3.isnull().sum()"
   ]
  },
  {
   "cell_type": "code",
   "execution_count": 48,
   "id": "4e7c2dff",
   "metadata": {},
   "outputs": [
    {
     "data": {
      "text/html": [
       "<div>\n",
       "<style scoped>\n",
       "    .dataframe tbody tr th:only-of-type {\n",
       "        vertical-align: middle;\n",
       "    }\n",
       "\n",
       "    .dataframe tbody tr th {\n",
       "        vertical-align: top;\n",
       "    }\n",
       "\n",
       "    .dataframe thead th {\n",
       "        text-align: right;\n",
       "    }\n",
       "</style>\n",
       "<table border=\"1\" class=\"dataframe\">\n",
       "  <thead>\n",
       "    <tr style=\"text-align: right;\">\n",
       "      <th></th>\n",
       "      <th>API</th>\n",
       "      <th>Description</th>\n",
       "      <th>Auth</th>\n",
       "      <th>HTTPS</th>\n",
       "      <th>Cors</th>\n",
       "      <th>Link</th>\n",
       "      <th>Category</th>\n",
       "    </tr>\n",
       "  </thead>\n",
       "  <tbody>\n",
       "    <tr>\n",
       "      <th>0</th>\n",
       "      <td>Axolotl</td>\n",
       "      <td>Collection of axolotl pictures and facts</td>\n",
       "      <td></td>\n",
       "      <td>True</td>\n",
       "      <td>unknown</td>\n",
       "      <td>https://theaxolotlapi.netlify.app/</td>\n",
       "      <td>Animals</td>\n",
       "    </tr>\n",
       "    <tr>\n",
       "      <th>1</th>\n",
       "      <td>Cat Facts</td>\n",
       "      <td>Daily cat facts</td>\n",
       "      <td></td>\n",
       "      <td>True</td>\n",
       "      <td>no</td>\n",
       "      <td>https://alexwohlbruck.github.io/cat-facts/</td>\n",
       "      <td>Animals</td>\n",
       "    </tr>\n",
       "    <tr>\n",
       "      <th>2</th>\n",
       "      <td>Cataas</td>\n",
       "      <td>Cat as a service (cats pictures and gifs)</td>\n",
       "      <td></td>\n",
       "      <td>True</td>\n",
       "      <td>unknown</td>\n",
       "      <td>https://cataas.com/</td>\n",
       "      <td>Animals</td>\n",
       "    </tr>\n",
       "    <tr>\n",
       "      <th>3</th>\n",
       "      <td>catAPI</td>\n",
       "      <td>Random pictures of cats</td>\n",
       "      <td></td>\n",
       "      <td>True</td>\n",
       "      <td>yes</td>\n",
       "      <td>https://github.com/ThatCopy/catAPI/wiki/Usage</td>\n",
       "      <td>Animals</td>\n",
       "    </tr>\n",
       "    <tr>\n",
       "      <th>4</th>\n",
       "      <td>Cats</td>\n",
       "      <td>Pictures of cats from Tumblr</td>\n",
       "      <td>apiKey</td>\n",
       "      <td>True</td>\n",
       "      <td>unknown</td>\n",
       "      <td>https://docs.thecatapi.com/</td>\n",
       "      <td>Animals</td>\n",
       "    </tr>\n",
       "    <tr>\n",
       "      <th>5</th>\n",
       "      <td>Dog Facts</td>\n",
       "      <td>Random dog facts</td>\n",
       "      <td></td>\n",
       "      <td>True</td>\n",
       "      <td>unknown</td>\n",
       "      <td>https://dukengn.github.io/Dog-facts-API/</td>\n",
       "      <td>Animals</td>\n",
       "    </tr>\n",
       "    <tr>\n",
       "      <th>6</th>\n",
       "      <td>Dogs</td>\n",
       "      <td>Based on the Stanford Dogs Dataset</td>\n",
       "      <td></td>\n",
       "      <td>True</td>\n",
       "      <td>yes</td>\n",
       "      <td>https://dog.ceo/dog-api/</td>\n",
       "      <td>Animals</td>\n",
       "    </tr>\n",
       "    <tr>\n",
       "      <th>7</th>\n",
       "      <td>HTTPCat</td>\n",
       "      <td>Cat for every HTTP Status</td>\n",
       "      <td></td>\n",
       "      <td>True</td>\n",
       "      <td>unknown</td>\n",
       "      <td>https://http.cat/</td>\n",
       "      <td>Animals</td>\n",
       "    </tr>\n",
       "    <tr>\n",
       "      <th>8</th>\n",
       "      <td>IUCN</td>\n",
       "      <td>IUCN Red List of Threatened Species</td>\n",
       "      <td>apiKey</td>\n",
       "      <td>False</td>\n",
       "      <td>unknown</td>\n",
       "      <td>http://apiv3.iucnredlist.org/api/v3/docs</td>\n",
       "      <td>Animals</td>\n",
       "    </tr>\n",
       "    <tr>\n",
       "      <th>9</th>\n",
       "      <td>Movebank</td>\n",
       "      <td>Movement and Migration data of animals</td>\n",
       "      <td></td>\n",
       "      <td>True</td>\n",
       "      <td>unknown</td>\n",
       "      <td>https://github.com/movebank/movebank-api-doc</td>\n",
       "      <td>Animals</td>\n",
       "    </tr>\n",
       "  </tbody>\n",
       "</table>\n",
       "</div>"
      ],
      "text/plain": [
       "         API                                Description    Auth  HTTPS  \\\n",
       "0    Axolotl   Collection of axolotl pictures and facts           True   \n",
       "1  Cat Facts                            Daily cat facts           True   \n",
       "2     Cataas  Cat as a service (cats pictures and gifs)           True   \n",
       "3     catAPI                    Random pictures of cats           True   \n",
       "4       Cats               Pictures of cats from Tumblr  apiKey   True   \n",
       "5  Dog Facts                           Random dog facts           True   \n",
       "6       Dogs         Based on the Stanford Dogs Dataset           True   \n",
       "7    HTTPCat                  Cat for every HTTP Status           True   \n",
       "8       IUCN        IUCN Red List of Threatened Species  apiKey  False   \n",
       "9   Movebank     Movement and Migration data of animals           True   \n",
       "\n",
       "      Cors                                           Link Category  \n",
       "0  unknown             https://theaxolotlapi.netlify.app/  Animals  \n",
       "1       no     https://alexwohlbruck.github.io/cat-facts/  Animals  \n",
       "2  unknown                            https://cataas.com/  Animals  \n",
       "3      yes  https://github.com/ThatCopy/catAPI/wiki/Usage  Animals  \n",
       "4  unknown                    https://docs.thecatapi.com/  Animals  \n",
       "5  unknown       https://dukengn.github.io/Dog-facts-API/  Animals  \n",
       "6      yes                       https://dog.ceo/dog-api/  Animals  \n",
       "7  unknown                              https://http.cat/  Animals  \n",
       "8  unknown       http://apiv3.iucnredlist.org/api/v3/docs  Animals  \n",
       "9  unknown   https://github.com/movebank/movebank-api-doc  Animals  "
      ]
     },
     "execution_count": 48,
     "metadata": {},
     "output_type": "execute_result"
    }
   ],
   "source": [
    "df3.head(10)"
   ]
  },
  {
   "cell_type": "code",
   "execution_count": 49,
   "id": "3c91f024",
   "metadata": {},
   "outputs": [
    {
     "data": {
      "text/plain": [
       "API            object\n",
       "Description    object\n",
       "Auth           object\n",
       "HTTPS            bool\n",
       "Cors           object\n",
       "Link           object\n",
       "Category       object\n",
       "dtype: object"
      ]
     },
     "execution_count": 49,
     "metadata": {},
     "output_type": "execute_result"
    }
   ],
   "source": [
    "df3.dtypes"
   ]
  },
  {
   "cell_type": "code",
   "execution_count": 50,
   "id": "67b38c71",
   "metadata": {},
   "outputs": [
    {
     "data": {
      "text/plain": [
       "Category\n",
       "Animals                         18\n",
       "Anime                           11\n",
       "Anti-Malware                     8\n",
       "Art & Design                    14\n",
       "Authentication                   4\n",
       "Books                           19\n",
       "Business                        14\n",
       "Calendar                        16\n",
       "Cloud Storage & File Sharing    11\n",
       "Continuous Integration           3\n",
       "Cryptocurrency                  39\n",
       "Currency Exchange               13\n",
       "Data Validation                 11\n",
       "Development                     81\n",
       "Dictionaries                     9\n",
       "Documents & Productivity        13\n",
       "Environment                     10\n",
       "Events                           4\n",
       "Finance                         20\n",
       "Food & Drink                    16\n",
       "Games & Comics                  65\n",
       "Geocoding                       66\n",
       "Government                      44\n",
       "Health                          20\n",
       "Jobs                            14\n",
       "Machine Learning                16\n",
       "Music                           28\n",
       "News                            14\n",
       "Open Data                       23\n",
       "Open Source Projects             5\n",
       "Patent                           3\n",
       "Personality                     23\n",
       "Phone                            4\n",
       "Photography                     16\n",
       "Science & Math                  28\n",
       "Security                        22\n",
       "Shopping                         5\n",
       "Social                          28\n",
       "Sports & Fitness                23\n",
       "Test Data                       16\n",
       "Text Analysis                   11\n",
       "Tracking                         6\n",
       "Transportation                  52\n",
       "URL Shorteners                  15\n",
       "Vehicle                          6\n",
       "Video                           24\n",
       "Weather                         24\n",
       "dtype: int64"
      ]
     },
     "execution_count": 50,
     "metadata": {},
     "output_type": "execute_result"
    }
   ],
   "source": [
    "#Check which categories are available.\n",
    "C = df3.pivot_table(index=['Category'], aggfunc='size')\n",
    "C"
   ]
  },
  {
   "cell_type": "code",
   "execution_count": 51,
   "id": "c4ebf22d",
   "metadata": {},
   "outputs": [
    {
     "data": {
      "image/png": "[encoded data removed]",
      "text/plain": [
       "<Figure size 1000x700 with 1 Axes>"
      ]
     },
     "metadata": {},
     "output_type": "display_data"
    }
   ],
   "source": [
    "df3['Category'].hist(bins=10,figsize=(10,7),grid=False);\n",
    "plt.show()"
   ]
  },
  {
   "cell_type": "code",
   "execution_count": 52,
   "id": "d9e8e31e",
   "metadata": {},
   "outputs": [
    {
     "data": {
      "text/plain": [
       "True     847\n",
       "False     88\n",
       "Name: HTTPS, dtype: int64"
      ]
     },
     "execution_count": 52,
     "metadata": {},
     "output_type": "execute_result"
    }
   ],
   "source": [
    "#Check frequency in HTTPS\n",
    "fre = df3['HTTPS']\n",
    "ds = pd.Series(fre)\n",
    "ds.value_counts()"
   ]
  },
  {
   "cell_type": "code",
   "execution_count": 53,
   "id": "04c5ea63",
   "metadata": {},
   "outputs": [
    {
     "data": {
      "image/png": "[encoded data removed]",
      "text/plain": [
       "<Figure size 640x480 with 1 Axes>"
      ]
     },
     "metadata": {},
     "output_type": "display_data"
    }
   ],
   "source": [
    "ds.value_counts().plot.bar()\n",
    "plt.show()"
   ]
  },
  {
   "cell_type": "code",
   "execution_count": 54,
   "id": "8cf61ece",
   "metadata": {},
   "outputs": [],
   "source": [
    "#4 Nationalize.io\n",
    "w4 = requests.get('https://api.nationalize.io/?name=nathaniel')"
   ]
  },
  {
   "cell_type": "code",
   "execution_count": 55,
   "id": "f292487f",
   "metadata": {},
   "outputs": [],
   "source": [
    "w4new_json = w4.content"
   ]
  },
  {
   "cell_type": "code",
   "execution_count": 56,
   "id": "5e019cb0",
   "metadata": {},
   "outputs": [],
   "source": [
    "new4_json = json.loads(w4new_json)"
   ]
  },
  {
   "cell_type": "code",
   "execution_count": 57,
   "id": "8a89bf16",
   "metadata": {},
   "outputs": [
    {
     "data": {
      "text/plain": [
       "dict"
      ]
     },
     "execution_count": 57,
     "metadata": {},
     "output_type": "execute_result"
    }
   ],
   "source": [
    "type(new4_json)"
   ]
  },
  {
   "cell_type": "code",
   "execution_count": 58,
   "id": "a6432e16",
   "metadata": {},
   "outputs": [
    {
     "data": {
      "text/html": [
       "<div>\n",
       "<style scoped>\n",
       "    .dataframe tbody tr th:only-of-type {\n",
       "        vertical-align: middle;\n",
       "    }\n",
       "\n",
       "    .dataframe tbody tr th {\n",
       "        vertical-align: top;\n",
       "    }\n",
       "\n",
       "    .dataframe thead th {\n",
       "        text-align: right;\n",
       "    }\n",
       "</style>\n",
       "<table border=\"1\" class=\"dataframe\">\n",
       "  <thead>\n",
       "    <tr style=\"text-align: right;\">\n",
       "      <th></th>\n",
       "      <th>name</th>\n",
       "      <th>country</th>\n",
       "    </tr>\n",
       "  </thead>\n",
       "  <tbody>\n",
       "    <tr>\n",
       "      <th>0</th>\n",
       "      <td>nathaniel</td>\n",
       "      <td>{'country_id': 'GH', 'probability': 0.33064895...</td>\n",
       "    </tr>\n",
       "    <tr>\n",
       "      <th>1</th>\n",
       "      <td>nathaniel</td>\n",
       "      <td>{'country_id': 'US', 'probability': 0.21465914...</td>\n",
       "    </tr>\n",
       "    <tr>\n",
       "      <th>2</th>\n",
       "      <td>nathaniel</td>\n",
       "      <td>{'country_id': 'PH', 'probability': 0.16570760...</td>\n",
       "    </tr>\n",
       "  </tbody>\n",
       "</table>\n",
       "</div>"
      ],
      "text/plain": [
       "        name                                            country\n",
       "0  nathaniel  {'country_id': 'GH', 'probability': 0.33064895...\n",
       "1  nathaniel  {'country_id': 'US', 'probability': 0.21465914...\n",
       "2  nathaniel  {'country_id': 'PH', 'probability': 0.16570760..."
      ]
     },
     "execution_count": 58,
     "metadata": {},
     "output_type": "execute_result"
    }
   ],
   "source": [
    "Data4 = pd.DataFrame(new4_json)\n",
    "Data4"
   ]
  },
  {
   "cell_type": "code",
   "execution_count": 59,
   "id": "4650e592",
   "metadata": {},
   "outputs": [
    {
     "data": {
      "text/html": [
       "<div>\n",
       "<style scoped>\n",
       "    .dataframe tbody tr th:only-of-type {\n",
       "        vertical-align: middle;\n",
       "    }\n",
       "\n",
       "    .dataframe tbody tr th {\n",
       "        vertical-align: top;\n",
       "    }\n",
       "\n",
       "    .dataframe thead th {\n",
       "        text-align: right;\n",
       "    }\n",
       "</style>\n",
       "<table border=\"1\" class=\"dataframe\">\n",
       "  <thead>\n",
       "    <tr style=\"text-align: right;\">\n",
       "      <th></th>\n",
       "      <th>country_id</th>\n",
       "      <th>probability</th>\n",
       "    </tr>\n",
       "  </thead>\n",
       "  <tbody>\n",
       "    <tr>\n",
       "      <th>0</th>\n",
       "      <td>GH</td>\n",
       "      <td>0.330649</td>\n",
       "    </tr>\n",
       "    <tr>\n",
       "      <th>1</th>\n",
       "      <td>US</td>\n",
       "      <td>0.214659</td>\n",
       "    </tr>\n",
       "    <tr>\n",
       "      <th>2</th>\n",
       "      <td>PH</td>\n",
       "      <td>0.165708</td>\n",
       "    </tr>\n",
       "  </tbody>\n",
       "</table>\n",
       "</div>"
      ],
      "text/plain": [
       "  country_id  probability\n",
       "0         GH     0.330649\n",
       "1         US     0.214659\n",
       "2         PH     0.165708"
      ]
     },
     "execution_count": 59,
     "metadata": {},
     "output_type": "execute_result"
    }
   ],
   "source": [
    "df4 = pd.DataFrame(new4_json['country'])\n",
    "df4"
   ]
  },
  {
   "cell_type": "code",
   "execution_count": 60,
   "id": "65dd3dca",
   "metadata": {},
   "outputs": [
    {
     "data": {
      "text/html": [
       "<div>\n",
       "<style scoped>\n",
       "    .dataframe tbody tr th:only-of-type {\n",
       "        vertical-align: middle;\n",
       "    }\n",
       "\n",
       "    .dataframe tbody tr th {\n",
       "        vertical-align: top;\n",
       "    }\n",
       "\n",
       "    .dataframe thead th {\n",
       "        text-align: right;\n",
       "    }\n",
       "</style>\n",
       "<table border=\"1\" class=\"dataframe\">\n",
       "  <thead>\n",
       "    <tr style=\"text-align: right;\">\n",
       "      <th></th>\n",
       "      <th>probability</th>\n",
       "    </tr>\n",
       "  </thead>\n",
       "  <tbody>\n",
       "    <tr>\n",
       "      <th>count</th>\n",
       "      <td>3.000000</td>\n",
       "    </tr>\n",
       "    <tr>\n",
       "      <th>mean</th>\n",
       "      <td>0.237005</td>\n",
       "    </tr>\n",
       "    <tr>\n",
       "      <th>std</th>\n",
       "      <td>0.084711</td>\n",
       "    </tr>\n",
       "    <tr>\n",
       "      <th>min</th>\n",
       "      <td>0.165708</td>\n",
       "    </tr>\n",
       "    <tr>\n",
       "      <th>25%</th>\n",
       "      <td>0.190183</td>\n",
       "    </tr>\n",
       "    <tr>\n",
       "      <th>50%</th>\n",
       "      <td>0.214659</td>\n",
       "    </tr>\n",
       "    <tr>\n",
       "      <th>75%</th>\n",
       "      <td>0.272654</td>\n",
       "    </tr>\n",
       "    <tr>\n",
       "      <th>max</th>\n",
       "      <td>0.330649</td>\n",
       "    </tr>\n",
       "  </tbody>\n",
       "</table>\n",
       "</div>"
      ],
      "text/plain": [
       "       probability\n",
       "count     3.000000\n",
       "mean      0.237005\n",
       "std       0.084711\n",
       "min       0.165708\n",
       "25%       0.190183\n",
       "50%       0.214659\n",
       "75%       0.272654\n",
       "max       0.330649"
      ]
     },
     "execution_count": 60,
     "metadata": {},
     "output_type": "execute_result"
    }
   ],
   "source": [
    "df4.describe()"
   ]
  },
  {
   "cell_type": "code",
   "execution_count": 61,
   "id": "79bfd671",
   "metadata": {},
   "outputs": [
    {
     "data": {
      "image/png": "[encoded data removed]",
      "text/plain": [
       "<Figure size 640x480 with 1 Axes>"
      ]
     },
     "metadata": {},
     "output_type": "display_data"
    }
   ],
   "source": [
    "x4 = df4['probability']\n",
    "plt.boxplot(x4)\n",
    "plt.show()"
   ]
  },
  {
   "cell_type": "code",
   "execution_count": 62,
   "id": "7452d4ff",
   "metadata": {},
   "outputs": [],
   "source": [
    "#5 Genderize.io\n",
    "w5 = requests.get('https://api.genderize.io/?name[]=peter&name[]=lois&name[]=stevie')"
   ]
  },
  {
   "cell_type": "code",
   "execution_count": 63,
   "id": "c4dddc31",
   "metadata": {},
   "outputs": [],
   "source": [
    "w5new_json = w5.content"
   ]
  },
  {
   "cell_type": "code",
   "execution_count": 64,
   "id": "dbd9e880",
   "metadata": {},
   "outputs": [],
   "source": [
    "new5_json = json.loads(w5new_json)"
   ]
  },
  {
   "cell_type": "code",
   "execution_count": 65,
   "id": "ab676e46",
   "metadata": {},
   "outputs": [
    {
     "data": {
      "text/plain": [
       "list"
      ]
     },
     "execution_count": 65,
     "metadata": {},
     "output_type": "execute_result"
    }
   ],
   "source": [
    "type(new5_json)"
   ]
  },
  {
   "cell_type": "code",
   "execution_count": 66,
   "id": "c231c5ed",
   "metadata": {},
   "outputs": [
    {
     "data": {
      "text/html": [
       "<div>\n",
       "<style scoped>\n",
       "    .dataframe tbody tr th:only-of-type {\n",
       "        vertical-align: middle;\n",
       "    }\n",
       "\n",
       "    .dataframe tbody tr th {\n",
       "        vertical-align: top;\n",
       "    }\n",
       "\n",
       "    .dataframe thead th {\n",
       "        text-align: right;\n",
       "    }\n",
       "</style>\n",
       "<table border=\"1\" class=\"dataframe\">\n",
       "  <thead>\n",
       "    <tr style=\"text-align: right;\">\n",
       "      <th></th>\n",
       "      <th>name</th>\n",
       "      <th>gender</th>\n",
       "      <th>probability</th>\n",
       "      <th>count</th>\n",
       "    </tr>\n",
       "  </thead>\n",
       "  <tbody>\n",
       "    <tr>\n",
       "      <th>0</th>\n",
       "      <td>peter</td>\n",
       "      <td>male</td>\n",
       "      <td>0.99</td>\n",
       "      <td>165452</td>\n",
       "    </tr>\n",
       "    <tr>\n",
       "      <th>1</th>\n",
       "      <td>lois</td>\n",
       "      <td>female</td>\n",
       "      <td>0.58</td>\n",
       "      <td>2510</td>\n",
       "    </tr>\n",
       "    <tr>\n",
       "      <th>2</th>\n",
       "      <td>stevie</td>\n",
       "      <td>male</td>\n",
       "      <td>0.87</td>\n",
       "      <td>2568</td>\n",
       "    </tr>\n",
       "  </tbody>\n",
       "</table>\n",
       "</div>"
      ],
      "text/plain": [
       "     name  gender  probability   count\n",
       "0   peter    male         0.99  165452\n",
       "1    lois  female         0.58    2510\n",
       "2  stevie    male         0.87    2568"
      ]
     },
     "execution_count": 66,
     "metadata": {},
     "output_type": "execute_result"
    }
   ],
   "source": [
    "Data5 = pd.DataFrame(new5_json)\n",
    "Data5"
   ]
  },
  {
   "cell_type": "code",
   "execution_count": 67,
   "id": "6f873dab",
   "metadata": {},
   "outputs": [
    {
     "data": {
      "text/plain": [
       "name            object\n",
       "gender          object\n",
       "probability    float64\n",
       "count            int64\n",
       "dtype: object"
      ]
     },
     "execution_count": 67,
     "metadata": {},
     "output_type": "execute_result"
    }
   ],
   "source": [
    "Data5.dtypes"
   ]
  },
  {
   "cell_type": "code",
   "execution_count": 68,
   "id": "c9384950",
   "metadata": {},
   "outputs": [
    {
     "data": {
      "text/html": [
       "<div>\n",
       "<style scoped>\n",
       "    .dataframe tbody tr th:only-of-type {\n",
       "        vertical-align: middle;\n",
       "    }\n",
       "\n",
       "    .dataframe tbody tr th {\n",
       "        vertical-align: top;\n",
       "    }\n",
       "\n",
       "    .dataframe thead th {\n",
       "        text-align: right;\n",
       "    }\n",
       "</style>\n",
       "<table border=\"1\" class=\"dataframe\">\n",
       "  <thead>\n",
       "    <tr style=\"text-align: right;\">\n",
       "      <th></th>\n",
       "      <th>probability</th>\n",
       "      <th>count</th>\n",
       "    </tr>\n",
       "  </thead>\n",
       "  <tbody>\n",
       "    <tr>\n",
       "      <th>count</th>\n",
       "      <td>3.000000</td>\n",
       "      <td>3.000000</td>\n",
       "    </tr>\n",
       "    <tr>\n",
       "      <th>mean</th>\n",
       "      <td>0.813333</td>\n",
       "      <td>56843.333333</td>\n",
       "    </tr>\n",
       "    <tr>\n",
       "      <th>std</th>\n",
       "      <td>0.210792</td>\n",
       "      <td>94057.868875</td>\n",
       "    </tr>\n",
       "    <tr>\n",
       "      <th>min</th>\n",
       "      <td>0.580000</td>\n",
       "      <td>2510.000000</td>\n",
       "    </tr>\n",
       "    <tr>\n",
       "      <th>25%</th>\n",
       "      <td>0.725000</td>\n",
       "      <td>2539.000000</td>\n",
       "    </tr>\n",
       "    <tr>\n",
       "      <th>50%</th>\n",
       "      <td>0.870000</td>\n",
       "      <td>2568.000000</td>\n",
       "    </tr>\n",
       "    <tr>\n",
       "      <th>75%</th>\n",
       "      <td>0.930000</td>\n",
       "      <td>84010.000000</td>\n",
       "    </tr>\n",
       "    <tr>\n",
       "      <th>max</th>\n",
       "      <td>0.990000</td>\n",
       "      <td>165452.000000</td>\n",
       "    </tr>\n",
       "  </tbody>\n",
       "</table>\n",
       "</div>"
      ],
      "text/plain": [
       "       probability          count\n",
       "count     3.000000       3.000000\n",
       "mean      0.813333   56843.333333\n",
       "std       0.210792   94057.868875\n",
       "min       0.580000    2510.000000\n",
       "25%       0.725000    2539.000000\n",
       "50%       0.870000    2568.000000\n",
       "75%       0.930000   84010.000000\n",
       "max       0.990000  165452.000000"
      ]
     },
     "execution_count": 68,
     "metadata": {},
     "output_type": "execute_result"
    }
   ],
   "source": [
    "Data5.describe()"
   ]
  },
  {
   "cell_type": "code",
   "execution_count": 69,
   "id": "3c997482",
   "metadata": {},
   "outputs": [
    {
     "data": {
      "image/png": "[encoded data removed]",
      "text/plain": [
       "<Figure size 640x480 with 1 Axes>"
      ]
     },
     "metadata": {},
     "output_type": "display_data"
    }
   ],
   "source": [
    "#Scatter\n",
    "sns.scatterplot(x='probability',y='count', data =Data5)\n",
    "plt.show()"
   ]
  },
  {
   "cell_type": "code",
   "execution_count": 70,
   "id": "ca60c51f",
   "metadata": {},
   "outputs": [
    {
     "data": {
      "image/png": "[encoded data removed]",
      "text/plain": [
       "<Figure size 640x480 with 1 Axes>"
      ]
     },
     "metadata": {},
     "output_type": "display_data"
    }
   ],
   "source": [
    "x5 = Data5['probability']\n",
    "ydata5 =Data5['count']\n",
    "plt.plot(x5,ydata5)\n",
    "plt.xlabel('probability')\n",
    "plt.ylabel('count')\n",
    "plt.show()"
   ]
  },
  {
   "cell_type": "code",
   "execution_count": 71,
   "id": "018089e9",
   "metadata": {},
   "outputs": [
    {
     "data": {
      "text/plain": [
       "male      2\n",
       "female    1\n",
       "Name: gender, dtype: int64"
      ]
     },
     "execution_count": 71,
     "metadata": {},
     "output_type": "execute_result"
    }
   ],
   "source": [
    "fre5 = Data5['gender']\n",
    "ds = pd.Series(fre5)\n",
    "ds.value_counts()"
   ]
  },
  {
   "cell_type": "code",
   "execution_count": 72,
   "id": "359041ad",
   "metadata": {},
   "outputs": [
    {
     "data": {
      "image/png": "[encoded data removed]",
      "text/plain": [
       "<Figure size 640x480 with 1 Axes>"
      ]
     },
     "metadata": {},
     "output_type": "display_data"
    }
   ],
   "source": [
    "ds.value_counts().plot.bar()\n",
    "plt.show()"
   ]
  },
  {
   "cell_type": "code",
   "execution_count": 73,
   "id": "307f416e",
   "metadata": {},
   "outputs": [
    {
     "data": {
      "image/png": "[encoded data removed]",
      "text/plain": [
       "<Figure size 640x480 with 1 Axes>"
      ]
     },
     "metadata": {},
     "output_type": "display_data"
    }
   ],
   "source": [
    "plt.boxplot(x5)\n",
    "plt.show()"
   ]
  },
  {
   "cell_type": "code",
   "execution_count": null,
   "id": "ef02aea7",
   "metadata": {},
   "outputs": [],
   "source": []
  }
 ],
 "metadata": {
  "kernelspec": {
   "display_name": "Python 3",
   "language": "python",
   "name": "python3"
  },
  "language_info": {
   "codemirror_mode": {
    "name": "ipython",
    "version": 3
   },
   "file_extension": ".py",
   "mimetype": "text/x-python",
   "name": "python",
   "nbconvert_exporter": "python",
   "pygments_lexer": "ipython3",
   "version": "3.7.4"
  }
 },
 "nbformat": 4,
 "nbformat_minor": 5
}
