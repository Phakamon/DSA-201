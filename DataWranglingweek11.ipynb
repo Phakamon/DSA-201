{
 "cells": [
  {
   "cell_type": "code",
   "execution_count": 2,
   "id": "b7ae4137",
   "metadata": {},
   "outputs": [
    {
     "name": "stdout",
     "output_type": "stream",
     "text": [
      "Requirement already satisfied: dropbox in c:\\users\\user\\anaconda3\\lib\\site-packages (11.19.0)\n",
      "Requirement already satisfied: six>=1.12.0 in c:\\users\\user\\anaconda3\\lib\\site-packages (from dropbox) (1.16.0)\n",
      "Requirement already satisfied: stone>=2.* in c:\\users\\user\\anaconda3\\lib\\site-packages (from dropbox) (3.2.1)\n",
      "Requirement already satisfied: requests>=2.16.2 in c:\\users\\user\\anaconda3\\lib\\site-packages (from dropbox) (2.25.1)\n",
      "Requirement already satisfied: chardet<5,>=3.0.2 in c:\\users\\user\\anaconda3\\lib\\site-packages (from requests>=2.16.2->dropbox) (3.0.4)\n",
      "Requirement already satisfied: urllib3<1.27,>=1.21.1 in c:\\users\\user\\anaconda3\\lib\\site-packages (from requests>=2.16.2->dropbox) (1.26.6)\n",
      "Requirement already satisfied: certifi>=2017.4.17 in c:\\users\\user\\anaconda3\\lib\\site-packages (from requests>=2.16.2->dropbox) (2021.5.30)\n",
      "Requirement already satisfied: idna<3,>=2.5 in c:\\users\\user\\anaconda3\\lib\\site-packages (from requests>=2.16.2->dropbox) (2.10)\n",
      "Requirement already satisfied: ply>=3.4 in c:\\users\\user\\anaconda3\\lib\\site-packages (from stone>=2.*->dropbox) (3.11)\n"
     ]
    },
    {
     "name": "stderr",
     "output_type": "stream",
     "text": [
      "WARNING: Ignoring invalid distribution -umpy (c:\\users\\user\\anaconda3\\lib\\site-packages)\n",
      "WARNING: Ignoring invalid distribution -umpy (c:\\users\\user\\anaconda3\\lib\\site-packages)\n",
      "WARNING: Ignoring invalid distribution -umpy (c:\\users\\user\\anaconda3\\lib\\site-packages)\n",
      "WARNING: Ignoring invalid distribution -umpy (c:\\users\\user\\anaconda3\\lib\\site-packages)\n",
      "WARNING: Ignoring invalid distribution -umpy (c:\\users\\user\\anaconda3\\lib\\site-packages)\n",
      "WARNING: Ignoring invalid distribution -umpy (c:\\users\\user\\anaconda3\\lib\\site-packages)\n"
     ]
    }
   ],
   "source": [
    "!pip install dropbox"
   ]
  },
  {
   "cell_type": "code",
   "execution_count": 1,
   "id": "b74029be",
   "metadata": {},
   "outputs": [],
   "source": [
    "import dropbox"
   ]
  },
  {
   "cell_type": "code",
   "execution_count": 7,
   "id": "87b6a02c",
   "metadata": {},
   "outputs": [],
   "source": [
    "dbx = dropbox.Dropbox('sl.A4ODpxxFwk1vseEV7LokKMGt_-H92ZSmY4KMJFOQMqgnDNuFYxfp1jTKkUhkzwN1j-5vVgyBxwzT8ZGoxOaPtqskUloRZQYKCGyB9pNDkrH38qis8hrZEfYIp8AoWJJMFywif7GM-4pB')"
   ]
  },
  {
   "cell_type": "code",
   "execution_count": 8,
   "id": "7b2a31ad",
   "metadata": {},
   "outputs": [
    {
     "data": {
      "text/plain": [
       "FullAccount(account_id='dbid:AADMCEc53fzRKnA0338nRhvSDrbdqxXXNDE', account_type=AccountType('basic', None), country='TH', disabled=False, email='ko.phakamon_st@tni.ac.th', email_verified=True, is_paired=False, locale='en', name=Name(abbreviated_name='PK', display_name='phakamon komanan', familiar_name='phakamon', given_name='phakamon', surname='komanan'), profile_photo_url=NOT_SET, referral_link='https://www.dropbox.com/referrals/AACai_WzIryK6_ovMoUsoWJVFj0N-g901Xg?src=app9-1963729', root_info=UserRootInfo(home_namespace_id='1971619777', root_namespace_id='1971619777'), team=NOT_SET, team_member_id=NOT_SET)"
      ]
     },
     "execution_count": 8,
     "metadata": {},
     "output_type": "execute_result"
    }
   ],
   "source": [
    "dbx.users_get_current_account()"
   ]
  },
  {
   "cell_type": "code",
   "execution_count": 9,
   "id": "93ca5646",
   "metadata": {},
   "outputs": [
    {
     "name": "stdout",
     "output_type": "stream",
     "text": [
      "Apps\n"
     ]
    }
   ],
   "source": [
    "for entry in dbx.files_list_folder('').entries:\n",
    "    print(entry.name)"
   ]
  },
  {
   "cell_type": "code",
   "execution_count": 12,
   "id": "a6d9314f",
   "metadata": {},
   "outputs": [],
   "source": [
    "access_token =('sl.A4ODpxxFwk1vseEV7LokKMGt_-H92ZSmY4KMJFOQMqgnDNuFYxfp1jTKkUhkzwN1j-5vVgyBxwzT8ZGoxOaPtqskUloRZQYKCGyB9pNDkrH38qis8hrZEfYIp8AoWJJMFywif7GM-4pB')\n",
    "file_from = 'OneDrive/Documents/27-29.pdf'\n",
    "file_to = '/Apps/27-29.pdf'\n",
    "def upload_file(file_from, file_to):\n",
    "    dbx = dropbox.Dropbox(access_token)\n",
    "    f = open(file_from, 'rb')\n",
    "    dbx.files_upload(f.read(), file_to)\n",
    "upload_file(file_from,file_to)"
   ]
  },
  {
   "cell_type": "code",
   "execution_count": null,
   "id": "a232096f",
   "metadata": {},
   "outputs": [],
   "source": []
  },
  {
   "cell_type": "code",
   "execution_count": null,
   "id": "6ccabd5e",
   "metadata": {},
   "outputs": [],
   "source": []
  }
 ],
 "metadata": {
  "kernelspec": {
   "display_name": "Python 3",
   "language": "python",
   "name": "python3"
  },
  "language_info": {
   "codemirror_mode": {
    "name": "ipython",
    "version": 3
   },
   "file_extension": ".py",
   "mimetype": "text/x-python",
   "name": "python",
   "nbconvert_exporter": "python",
   "pygments_lexer": "ipython3",
   "version": "3.7.4"
  }
 },
 "nbformat": 4,
 "nbformat_minor": 5
}
